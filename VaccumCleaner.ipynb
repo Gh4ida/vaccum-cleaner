{
 "cells": [
  {
   "cell_type": "code",
   "execution_count": 1,
   "id": "64b499ae",
   "metadata": {},
   "outputs": [
    {
     "name": "stdout",
     "output_type": "stream",
     "text": [
      "[['c' 'c' 'c' 'c' 'c' 'c' 'c' 'c' 'c' 'c']\n",
      " ['c' 'c' 'c' 'c' 'c' 'c' 'c' 'c' 'c' 'c']\n",
      " ['c' 'c' 'c' 'c' 'c' 'c' 'c' 'c' 'c' 'c']\n",
      " ['c' 'c' 'c' 'c' 'c' 'c' 'c' 'c' 'c' 'c']\n",
      " ['c' 'c' 'c' 'c' 'c' 'c' 'c' 'c' 'c' 'c']\n",
      " ['c' 'c' 'c' 'c' 'c' 'c' 'c' 'c' 'c' 'c']\n",
      " ['c' 'c' 'c' 'c' 'c' 'c' 'c' 'c' 'c' 'c']\n",
      " ['c' 'c' 'c' 'c' 'c' 'c' 'c' 'c' 'c' 'c']\n",
      " ['c' 'c' 'c' 'c' 'c' 'c' 'c' 'c' 'c' 'c']\n",
      " ['c' 'c' 'c' 'c' 'c' 'c' 'c' 'c' 'c' 'c']]\n"
     ]
    }
   ],
   "source": [
    "class main:\n",
    "  import numpy as np\n",
    "  #part 1 creating the environment\n",
    "  #a clean matrix with no dirt or walls\n",
    "\n",
    "  env = np.full((10,10), \"c\") \n",
    "  print(env)\n",
    "\n",
    "  #total penalty counter for the simple\n",
    "  global penalty\n",
    "  penalty = 0\n",
    "\n",
    "  #total penalty counter for the table-driven\n",
    "  global tpenalty\n",
    "  tpenalty=0\n",
    "\n",
    "  #coordinates of the agent\n",
    "  global x \n",
    "  x = 0\n",
    "  global y \n",
    "  y = 0"
   ]
  },
  {
   "cell_type": "code",
   "execution_count": 2,
   "id": "72b32a3e",
   "metadata": {},
   "outputs": [
    {
     "name": "stdout",
     "output_type": "stream",
     "text": [
      "[['c' 'c' 'c' 'c' 'c' 'c' '|' 'c' 'c' 'c']\n",
      " ['c' 'c' 'c' 'c' 'c' 'c' '|' 'c' 'c' 'c']\n",
      " ['c' 'c' 'c' 'c' 'c' 'c' '|' 'c' 'c' 'c']\n",
      " ['c' 'c' 'c' 'c' 'c' '|' 'c' 'c' 'c' 'c']\n",
      " ['c' 'c' 'c' 'c' 'c' 'c' 'c' 'c' 'c' 'c']\n",
      " ['c' 'c' 'c' 'c' 'c' 'c' 'c' 'c' 'c' 'c']\n",
      " ['|' 'c' 'c' 'c' 'c' 'c' 'c' 'c' 'c' 'c']\n",
      " ['|' 'c' 'c' 'c' 'c' 'c' 'c' 'c' '|' 'c']\n",
      " ['c' 'c' 'c' 'c' 'c' 'c' 'c' 'c' 'c' 'c']\n",
      " ['c' 'c' 'c' 'c' 'c' 'c' 'c' 'c' '|' 'c']]\n"
     ]
    }
   ],
   "source": [
    "#constructing the walls\n",
    "main.env [0,6]=\"|\"\n",
    "main.env [1,6]=\"|\" \n",
    "main.env [2,6]=\"|\" \n",
    "main.env [7,0]=\"|\"\n",
    "main.env [6,0]=\"|\" \n",
    "main.env [3,5]=\"|\"\n",
    "main.env [9,8]=\"|\" \n",
    "main.env [7,8]=\"|\" \n",
    "print (main.env)"
   ]
  },
  {
   "cell_type": "code",
   "execution_count": 3,
   "id": "2426ff65",
   "metadata": {},
   "outputs": [
    {
     "name": "stdout",
     "output_type": "stream",
     "text": [
      "Enter number of dirt: (must be less than 92) 4\n"
     ]
    }
   ],
   "source": [
    "# user enter number of dirt for the simple reflex  \n",
    "dirtNum = int(input(\"Enter number of dirt: (must be less than 92) \"))"
   ]
  },
  {
   "cell_type": "code",
   "execution_count": 4,
   "id": "29cd3c5d",
   "metadata": {},
   "outputs": [
    {
     "name": "stdout",
     "output_type": "stream",
     "text": [
      "[['c' 'c' 'c' 'c' 'c' 'c' '|' 'c' 'c' 'c']\n",
      " ['*' 'c' 'c' 'c' 'c' 'c' '|' 'c' 'c' 'c']\n",
      " ['c' 'c' 'c' 'c' 'c' 'c' '|' 'c' 'c' 'c']\n",
      " ['*' 'c' 'c' 'c' 'c' '|' 'c' 'c' 'c' 'c']\n",
      " ['c' 'c' 'c' 'c' 'c' 'c' 'c' 'c' 'c' 'c']\n",
      " ['c' 'c' 'c' 'c' '*' 'c' 'c' 'c' 'c' 'c']\n",
      " ['|' 'c' 'c' 'c' 'c' 'c' 'c' 'c' 'c' 'c']\n",
      " ['|' '*' 'c' 'c' 'c' 'c' 'c' 'c' '|' 'c']\n",
      " ['c' 'c' 'c' 'c' 'c' 'c' 'c' 'c' 'c' 'c']\n",
      " ['c' 'c' 'c' 'c' 'c' 'c' 'c' 'c' '|' 'c']]\n"
     ]
    }
   ],
   "source": [
    "#place the dirt randomly\n",
    "import random\n",
    "#loop number of dirts\n",
    "i = 0\n",
    "while i < dirtNum:\n",
    "  #get two random indeces\n",
    "  n1 = random. randrange (0,9, 1)\n",
    "  n2 = random. randrange (0,9, 1)\n",
    "  #check if the cell is clean and if it's not a wall\n",
    "  if main.env [n1, n2] == \"c\" and main.env [n1, n2] != \"|\":\n",
    "    main.env [n1, n2] = \"*\"\n",
    "    i += 1\n",
    "#this environment for simple reflex\n",
    "  \n",
    "print (main.env)"
   ]
  },
  {
   "cell_type": "code",
   "execution_count": 5,
   "id": "d2cc5351",
   "metadata": {},
   "outputs": [
    {
     "name": "stdout",
     "output_type": "stream",
     "text": [
      "[['c' 'c' 'c' 'c' 'c' '*' '|' 'c' 'c' 'c']\n",
      " ['c' 'c' 'c' 'c' 'c' 'c' '|' 'c' 'c' 'c']\n",
      " ['c' 'c' 'c' 'c' 'c' 'c' '|' 'c' 'c' 'c']\n",
      " ['c' 'c' 'c' 'c' 'c' '|' 'c' 'c' 'c' 'c']\n",
      " ['c' 'c' '*' 'c' 'c' 'c' 'c' 'c' 'c' 'c']\n",
      " ['*' 'c' 'c' 'c' 'c' 'c' 'c' 'c' 'c' 'c']\n",
      " ['|' 'c' 'c' 'c' 'c' '*' 'c' 'c' 'c' 'c']\n",
      " ['|' 'c' 'c' 'c' 'c' 'c' 'c' 'c' '|' 'c']\n",
      " ['c' 'c' 'c' 'c' 'c' 'c' 'c' 'c' 'c' 'c']\n",
      " ['c' 'c' 'c' 'c' 'c' 'c' 'c' 'c' '|' 'c']]\n"
     ]
    }
   ],
   "source": [
    "#table-driven environment\n",
    "import numpy as np\n",
    "tableenv = np.array([['c', 'c', 'c', 'c', 'c', '*', '|', 'c', 'c', 'c'],\n",
    " ['c', 'c', 'c', 'c', 'c', 'c', '|', 'c', 'c', 'c'],\n",
    " ['c', 'c', 'c', 'c', 'c', 'c', '|', 'c', 'c', 'c'],\n",
    " ['c', 'c', 'c', 'c', 'c', '|', 'c', 'c', 'c', 'c'],\n",
    " ['c', 'c', '*', 'c', 'c', 'c', 'c', 'c', 'c', 'c'],\n",
    " ['*', 'c', 'c', 'c', 'c', 'c', 'c', 'c', 'c', 'c'],\n",
    " ['|', 'c', 'c', 'c', 'c', '*', 'c', 'c', 'c', 'c'],\n",
    " ['|', 'c', 'c', 'c', 'c', 'c', 'c', 'c', '|', 'c'],\n",
    " ['c', 'c', 'c', 'c', 'c', 'c', 'c', 'c', 'c', 'c'],\n",
    " ['c', 'c', 'c', 'c', 'c', 'c', 'c', 'c', '|', 'c']])\n",
    "print(tableenv)"
   ]
  },
  {
   "cell_type": "code",
   "execution_count": 6,
   "id": "b80d41b5",
   "metadata": {},
   "outputs": [],
   "source": [
    "#movement actions\n",
    "def moveLeft(x, y, penaltyy):\n",
    "  if vacuum != '|':\n",
    "   y -= 1\n",
    "   penaltyy += 1\n",
    "  return (x, y, penaltyy)\n",
    "\n",
    "def moveRight(x, y, penaltyy):\n",
    "  if vacuum != '|':\n",
    "    y+= 1\n",
    "    penaltyy += 1\n",
    "  return (x, y, penaltyy)\n",
    "\n",
    "def moveUp(x, y, penaltyy):\n",
    "  if vacuum != '|':\n",
    "    x -= 1\n",
    "    penaltyy += 1\n",
    "  return (x, y, penaltyy)\n",
    "\n",
    "def moveDown(x, y, penaltyy):\n",
    "  if vacuum != '|':\n",
    "    x+= 1\n",
    "    penaltyy += 1\n",
    "  return (x, y, penaltyy)\n",
    "    \n",
    "\n",
    "#check if dirt is there\n",
    "def isDirty(vacuum):\n",
    "  if vacuum == '*':\n",
    "    return True\n",
    "  else:\n",
    "    return False\n",
    "\n",
    "#clean the dirt\n",
    "def suck(x, y, penaltyy,envv):\n",
    "\n",
    "  penaltyy += 5\n",
    "  envv[x, y] = 'e' #the  letter e maen it is clean now \n",
    "  return (penaltyy)"
   ]
  },
  {
   "cell_type": "code",
   "execution_count": 7,
   "id": "a6f6e8be",
   "metadata": {},
   "outputs": [
    {
     "name": "stdout",
     "output_type": "stream",
     "text": [
      "[['c' 'c' 'c' 'c' 'c' 'c' '|' 'c' 'c' 'c']\n",
      " ['e' 'c' 'c' 'c' 'c' 'c' '|' 'c' 'c' 'c']\n",
      " ['c' 'c' 'c' 'c' 'c' 'c' '|' 'c' 'c' 'c']\n",
      " ['e' 'c' 'c' 'c' 'c' '|' 'c' 'c' 'c' 'c']\n",
      " ['c' 'c' 'c' 'c' 'c' 'c' 'c' 'c' 'c' 'c']\n",
      " ['c' 'c' 'c' 'c' 'e' 'c' 'c' 'c' 'c' 'c']\n",
      " ['|' 'c' 'c' 'c' 'c' 'c' 'c' 'c' 'c' 'c']\n",
      " ['|' 'e' 'c' 'c' 'c' 'c' 'c' 'c' '|' 'c']\n",
      " ['c' 'c' 'c' 'c' 'c' 'c' 'c' 'c' 'c' 'c']\n",
      " ['c' 'c' 'c' 'c' 'c' 'c' 'c' 'c' '|' 'c']]\n",
      "Total Penalty is for Simple reflex: 108\n"
     ]
    }
   ],
   "source": [
    "import random #to make random choices\n",
    "for x in range(10):\n",
    "  for y in range(10):\n",
    "    vacuum = main.env[x,y]\n",
    "    #call function isDirty to check if it is dirty or not\n",
    "    clean = isDirty(vacuum) \n",
    "    if clean == True:\n",
    "      #if true call function suck \n",
    "      penalty = suck(x, y, penalty, main.env)  \n",
    "    elif vacuum==\"c\" :\n",
    "      # if it is clean than go forward call function moveright\n",
    "      x,y,penalty = moveRight(x, y, penalty) \n",
    "    elif vacuum==\"|\" :\n",
    "      #if it is wall than will make random choice\n",
    "      mylist=[1,2,3,4]\n",
    "      ranmdomNum=random.choice(mylist)\n",
    "      if ranmdomNum==1 :\n",
    "          x,y,penalty = moveLeft(x, y, penalty)\n",
    "      elif ranmdomNum==2:\n",
    "          x,y,penalty = moveRight(x, y, penalty)\n",
    "      elif ranmdomNum==3:\n",
    "          x,y,penalty = moveUp(x, y, penalty) \n",
    "      elif ranmdomNum==4:\n",
    "          x,y,penalty = moveDown(x, y, penalty)\n",
    "        \n",
    "print(main.env)\n",
    "#print total penalty\n",
    "print(\"Total Penalty is for Simple reflex:\",penalty)"
   ]
  },
  {
   "cell_type": "code",
   "execution_count": 8,
   "id": "ffdaeeb2",
   "metadata": {},
   "outputs": [
    {
     "name": "stdout",
     "output_type": "stream",
     "text": [
      "[['c' 'c' 'c' 'c' 'c' 'e' '|' 'c' 'c' 'c']\n",
      " ['c' 'c' 'c' 'c' 'c' 'c' '|' 'c' 'c' 'c']\n",
      " ['c' 'c' 'c' 'c' 'c' 'c' '|' 'c' 'c' 'c']\n",
      " ['c' 'c' 'c' 'c' 'c' '|' 'c' 'c' 'c' 'c']\n",
      " ['c' 'c' 'e' 'c' 'c' 'c' 'c' 'c' 'c' 'c']\n",
      " ['e' 'c' 'c' 'c' 'c' 'c' 'c' 'c' 'c' 'c']\n",
      " ['|' 'c' 'c' 'c' 'c' 'e' 'c' 'c' 'c' 'c']\n",
      " ['|' 'c' 'c' 'c' 'c' 'c' 'c' 'c' '|' 'c']\n",
      " ['c' 'c' 'c' 'c' 'c' 'c' 'c' 'c' 'c' 'c']\n",
      " ['c' 'c' 'c' 'c' 'c' 'c' 'c' 'c' '|' 'c']]\n",
      "Total Penalty is for Table Driven: 41\n"
     ]
    }
   ],
   "source": [
    "#Table Driven Agent \n",
    "import numpy as np\n",
    "\n",
    "#Direction Array to instruct the agent\n",
    "DirArray=np.array([2,2,2,2,2,5,4,4,1,4,4,2,4,4,5,1,1,1,3,3,5,1,1,4,5]) \n",
    "#for-loop to access each index of the direction array\n",
    "x=0\n",
    "y=0\n",
    "vacuum = tableenv[x,y]\n",
    "\n",
    "for d in range(len(DirArray)) :\n",
    "  if DirArray[d]==1:\n",
    "    x,y,tpenalty=moveLeft(x, y, tpenalty)\n",
    "  elif DirArray[d]==2:\n",
    "    x,y,tpenalty=moveRight(x, y, tpenalty)\n",
    "  elif DirArray[d]==3:\n",
    "    x,y,tpenalty=moveUp(x, y, tpenalty) \n",
    "  elif DirArray[d]==4:\n",
    "    x,y,tpenalty=moveDown(x, y, tpenalty)\n",
    "  elif DirArray[d]==5:\n",
    "    tpenalty =suck(x,y, tpenalty,tableenv)\n",
    "\n",
    "\n",
    "print (tableenv)\n",
    "print(\"Total Penalty is for Table Driven:\",tpenalty)"
   ]
  },
  {
   "cell_type": "code",
   "execution_count": null,
   "id": "d43b1d04",
   "metadata": {},
   "outputs": [],
   "source": []
  },
  {
   "cell_type": "code",
   "execution_count": null,
   "id": "c85bdb8b",
   "metadata": {},
   "outputs": [],
   "source": []
  }
 ],
 "metadata": {
  "kernelspec": {
   "display_name": "Python 3 (ipykernel)",
   "language": "python",
   "name": "python3"
  },
  "language_info": {
   "codemirror_mode": {
    "name": "ipython",
    "version": 3
   },
   "file_extension": ".py",
   "mimetype": "text/x-python",
   "name": "python",
   "nbconvert_exporter": "python",
   "pygments_lexer": "ipython3",
   "version": "3.10.9"
  }
 },
 "nbformat": 4,
 "nbformat_minor": 5
}
